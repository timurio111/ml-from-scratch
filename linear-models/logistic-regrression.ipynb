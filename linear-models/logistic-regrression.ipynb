{
 "cells": [
  {
   "cell_type": "code",
   "execution_count": 1,
   "metadata": {},
   "outputs": [],
   "source": [
    "import numpy as np\n",
    "import pandas as pd"
   ]
  },
  {
   "cell_type": "code",
   "execution_count": 1,
   "metadata": {},
   "outputs": [],
   "source": [
    "class MyLogReg():\n",
    "    def __init__(\n",
    "            self,\n",
    "            n_iter,\n",
    "            learning_rate\n",
    "    ):\n",
    "        self.n_iter = n_iter\n",
    "        self.learning_rate = learning_rate\n",
    "        self.W = None\n",
    "        self.eps = 1e-15\n",
    "\n",
    "    def sigmoid(self, z):\n",
    "            return 1 / (1 + np.exp(-z))\n",
    "\n",
    "    def log_loss(self, y_true, y_pred):\n",
    "        y_pred = np.clip(y_pred, self.eps, 1 - self.eps)\n",
    "        return -np.mean(y_true * np.log(y_pred + self.eps) + (1 - y_true) * np.log(1 - y_pred + self.eps))\n",
    "\n",
    "    def fit(self, X, y, verbose):\n",
    "        X = pd.concat([pd.Series(1, index=X.index, name='bias'), X], axis=1)\n",
    "        n = X.shape[1]\n",
    "        self.W = np.ones(n)\n",
    "\n",
    "        if verbose:\n",
    "            print(f\"start | loss: {self.log_loss(y, self.sigmoid(np.dot(X, self.W)))}\")\n",
    "\n",
    "        for i in range(self.n_iter):\n",
    "            y_pred = self.sigmoid(np.dot(X, self.W))\n",
    "            log_loss = self.log_loss(y, y_pred)\n",
    "            gradient = np.dot(X.T, (y_pred - y)) / len(y)\n",
    "            self.W -= self.learning_rate * gradient\n",
    "\n",
    "            if verbose and (i + 1) % verbose == 0:\n",
    "                print(f\"{i + 1} | loss: {log_loss}\")\n",
    "\n",
    "    def get_coef(self):\n",
    "        return self.W[1:]\n",
    "\n",
    "    def predict_proba(self, X):\n",
    "        X = pd.concat([pd.Series(1, index=X.index, name='bias'), X], axis=1)\n",
    "        return self.sigmoid(np.dot(X, self.W))\n",
    "\n",
    "    def predict(self, X, threshold=0.5):\n",
    "        proba = self.predict_proba(X)\n",
    "        return (proba > threshold).astype(int)\n",
    "\n",
    "    def get_best_score(self):\n",
    "        return self.score\n",
    "\n",
    "    def __str__(self):\n",
    "        return f\"{__class__.__name__} class: n_iter={self.n_iter}, learning_rate={self.learning_rate}\""
   ]
  },
  {
   "cell_type": "code",
   "execution_count": null,
   "metadata": {},
   "outputs": [],
   "source": []
  }
 ],
 "metadata": {
  "kernelspec": {
   "display_name": "my-env",
   "language": "python",
   "name": "python3"
  },
  "language_info": {
   "codemirror_mode": {
    "name": "ipython",
    "version": 3
   },
   "file_extension": ".py",
   "mimetype": "text/x-python",
   "name": "python",
   "nbconvert_exporter": "python",
   "pygments_lexer": "ipython3",
   "version": "3.8.18"
  }
 },
 "nbformat": 4,
 "nbformat_minor": 2
}
