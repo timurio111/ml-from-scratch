{
 "cells": [
  {
   "cell_type": "code",
   "execution_count": 1,
   "metadata": {},
   "outputs": [],
   "source": [
    "import numpy as np\n",
    "import pandas as pd"
   ]
  },
  {
   "cell_type": "code",
   "execution_count": null,
   "metadata": {},
   "outputs": [],
   "source": [
    "class MyKNNReg():\n",
    "    def __init__(self, k: int = 3, metric: str = \"euclidean\"):\n",
    "        self.k = k\n",
    "        self.train_size = None\n",
    "        self.X = None\n",
    "        self.y = None\n",
    "        self.metric = metric\n",
    "    \n",
    "    def fit(self, X, y):\n",
    "        self.X = X.copy()\n",
    "        self.y = y.copy()\n",
    "        self.train_size = X.shape\n",
    "    \n",
    "    def predict(self, X: pd.DataFrame):\n",
    "        predictions = []\n",
    "        for i in range(X.shape[0]):\n",
    "            distances = self.calculate_distances(X.iloc[i])\n",
    "            indices = np.argsort(distances)[:self.k]\n",
    "            nearest_neigbs = self.y.iloc[indices]\n",
    "            prediction = np.mean(nearest_neigbs)\n",
    "            predictions.append(prediction)\n",
    "        return np.array(predictions)\n",
    "\n",
    "    def calculate_distances(self, x):\n",
    "        if self.metric == 'euclidean':\n",
    "            return np.linalg.norm(self.X - x, axis=1)\n",
    "        elif self.metric == 'chebyshev':\n",
    "            return np.abs(self.X - x).max(axis=1)\n",
    "        elif self.metric == 'manhattan':\n",
    "            return np.abs(self.X - x).sum(axis=1)\n",
    "        elif self.metric == 'cosine':\n",
    "            unit_X = self.X / np.linalg.norm(self.X, axis=1)[:, np.newaxis]\n",
    "            unit_x = x / np.linalg.norm(x)\n",
    "            return 1 - np.dot(unit_X, unit_x)\n",
    "        else:\n",
    "            raise ValueError(\"Invalid metric. Please choose from 'euclidean', 'chebyshev', 'manhattan', or 'cosine'.\")\n",
    "\n",
    "    def __str__(self):\n",
    "        return f\"{__class__.__name__} class: k={self.k}\""
   ]
  }
 ],
 "metadata": {
  "kernelspec": {
   "display_name": "my-env",
   "language": "python",
   "name": "python3"
  },
  "language_info": {
   "codemirror_mode": {
    "name": "ipython",
    "version": 3
   },
   "file_extension": ".py",
   "mimetype": "text/x-python",
   "name": "python",
   "nbconvert_exporter": "python",
   "pygments_lexer": "ipython3",
   "version": "3.8.18"
  }
 },
 "nbformat": 4,
 "nbformat_minor": 2
}
